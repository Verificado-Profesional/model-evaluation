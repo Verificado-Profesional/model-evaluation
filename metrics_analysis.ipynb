{
 "cells": [
  {
   "cell_type": "code",
   "execution_count": 1,
   "metadata": {},
   "outputs": [],
   "source": [
    "import pandas as pd\n",
    "import seaborn as sns\n",
    "import matplotlib.pyplot as plt\n",
    "from sklearn.metrics import confusion_matrix\n",
    "from sklearn.metrics import accuracy_score, precision_score, recall_score, f1_score\n",
    "from ast import literal_eval"
   ]
  },
  {
   "cell_type": "markdown",
   "metadata": {},
   "source": [
    "## Cargo los Datasets"
   ]
  },
  {
   "cell_type": "code",
   "execution_count": 2,
   "metadata": {},
   "outputs": [],
   "source": [
    "df_sentiment = pd.read_csv(\"./data/predicted/sentiment_predicted.csv\")\n",
    "df_veracity_arg = pd.read_csv(\"./data/predicted/veracity_arg_predicted.csv\")\n",
    "df_veracity = pd.read_csv(\"./data/predicted/veracity_predicted.csv\")"
   ]
  },
  {
   "cell_type": "code",
   "execution_count": 3,
   "metadata": {},
   "outputs": [],
   "source": [
    "def split_list(row):\n",
    "    return pd.Series(row)"
   ]
  },
  {
   "cell_type": "code",
   "execution_count": 4,
   "metadata": {},
   "outputs": [],
   "source": [
    "def convert_list(df,feature):\n",
    "  df[feature] = df[feature].apply(literal_eval)\n",
    "  df[[f'{feature}_false', f'{feature}_true']] = df[feature].apply(split_list)\n",
    "  return df"
   ]
  },
  {
   "cell_type": "code",
   "execution_count": 5,
   "metadata": {},
   "outputs": [],
   "source": [
    "def parse_df(df):\n",
    "  df = convert_list(df,'sentiment_probabilities')\n",
    "  df = convert_list(df,'veracity_probabilities')\n",
    "  return df"
   ]
  },
  {
   "cell_type": "code",
   "execution_count": 6,
   "metadata": {},
   "outputs": [],
   "source": [
    "df_veracity_arg = parse_df(df_veracity_arg)\n",
    "df_veracity_global = parse_df(df_veracity)"
   ]
  },
  {
   "cell_type": "code",
   "execution_count": 7,
   "metadata": {},
   "outputs": [],
   "source": [
    "df_veracity_total = pd.concat([df_veracity,df_veracity_arg])"
   ]
  },
  {
   "cell_type": "code",
   "execution_count": 8,
   "metadata": {},
   "outputs": [],
   "source": [
    "df_sentiment = convert_list(df_sentiment,'sentiment_probabilities')"
   ]
  },
  {
   "cell_type": "code",
   "execution_count": 9,
   "metadata": {},
   "outputs": [],
   "source": [
    "def plot_confusion_matrix(df_1,df_2,title,x_label,y_label):\n",
    "  conf_matrix = confusion_matrix(df_1, df_2)\n",
    "\n",
    "  plt.figure(figsize=(8, 6))\n",
    "  sns.heatmap(conf_matrix, annot=True, fmt='d', cmap='Blues')\n",
    "  plt.title(title)\n",
    "  plt.xlabel(x_label)\n",
    "  plt.ylabel(y_label)\n",
    "  plt.show()"
   ]
  },
  {
   "cell_type": "markdown",
   "metadata": {},
   "source": [
    "## Metricas"
   ]
  },
  {
   "cell_type": "code",
   "execution_count": 10,
   "metadata": {},
   "outputs": [],
   "source": [
    "def calculate_metrics(target,predicted):\n",
    "  accuracy = accuracy_score(target,predicted)\n",
    "  precision = precision_score(target,predicted)\n",
    "  recall = recall_score(target,predicted)\n",
    "  f1 = f1_score(target,predicted)\n",
    "\n",
    "  return accuracy,precision,recall,f1"
   ]
  },
  {
   "cell_type": "code",
   "execution_count": 11,
   "metadata": {},
   "outputs": [],
   "source": [
    "def print_metrics(target,predicted):\n",
    "    accuracy,precision,recall,f1 = calculate_metrics(target, predicted)\n",
    "    print(\"Accuracy:\", accuracy)\n",
    "    print(\"Precision:\", precision)\n",
    "    print(\"Recall:\", recall)\n",
    "    print(\"F1-score:\", f1)\n",
    "    return accuracy,precision,recall,f1"
   ]
  },
  {
   "cell_type": "markdown",
   "metadata": {},
   "source": [
    "### Sentimiento"
   ]
  },
  {
   "cell_type": "code",
   "execution_count": 12,
   "metadata": {},
   "outputs": [
    {
     "name": "stderr",
     "output_type": "stream",
     "text": [
      "/tmp/ipykernel_6950/528608625.py:2: SettingWithCopyWarning: \n",
      "A value is trying to be set on a copy of a slice from a DataFrame.\n",
      "Try using .loc[row_indexer,col_indexer] = value instead\n",
      "\n",
      "See the caveats in the documentation: https://pandas.pydata.org/pandas-docs/stable/user_guide/indexing.html#returning-a-view-versus-a-copy\n",
      "  df_test['sentimiento'] = df_test['sentimiento'].replace({'Positivo':1, 'Negativo':0})\n"
     ]
    }
   ],
   "source": [
    "df_test = df_sentiment[df_sentiment['sentimiento'] != \"Neutral\"]\n",
    "df_test['sentimiento'] = df_test['sentimiento'].replace({'Positivo':1, 'Negativo':0})"
   ]
  },
  {
   "cell_type": "code",
   "execution_count": 13,
   "metadata": {},
   "outputs": [
    {
     "name": "stdout",
     "output_type": "stream",
     "text": [
      "Accuracy: 0.947538407821229\n",
      "Precision: 0.9443273621355813\n",
      "Recall: 0.9498321851263027\n",
      "F1-score: 0.947071774548657\n"
     ]
    }
   ],
   "source": [
    "accuracy,precision,recall,f1 = print_metrics(df_test['sentimiento'], df_test['sentiment_label'])"
   ]
  },
  {
   "cell_type": "markdown",
   "metadata": {},
   "source": [
    "### Veracidad"
   ]
  },
  {
   "cell_type": "markdown",
   "metadata": {},
   "source": [
    "#### Argentina"
   ]
  },
  {
   "cell_type": "code",
   "execution_count": 14,
   "metadata": {},
   "outputs": [
    {
     "name": "stdout",
     "output_type": "stream",
     "text": [
      "Accuracy: 0.7617053673391702\n",
      "Precision: 0.6060885608856088\n",
      "Recall: 0.7675233644859814\n",
      "F1-score: 0.677319587628866\n"
     ]
    }
   ],
   "source": [
    "accuracy,precision,recall,f1 = print_metrics(df_veracity_arg['clasificacion'], df_veracity_arg['veracity_label'])"
   ]
  },
  {
   "cell_type": "markdown",
   "metadata": {},
   "source": [
    "#### Global"
   ]
  },
  {
   "cell_type": "code",
   "execution_count": 15,
   "metadata": {},
   "outputs": [
    {
     "name": "stdout",
     "output_type": "stream",
     "text": [
      "Accuracy: 0.857602463022089\n",
      "Precision: 0.8122260534159312\n",
      "Recall: 0.980002256444971\n",
      "F1-score: 0.8882611224378927\n"
     ]
    }
   ],
   "source": [
    "accuracy,precision,recall,f1 = print_metrics(df_veracity_global['clasificacion'], df_veracity_global['veracity_label'])"
   ]
  },
  {
   "cell_type": "markdown",
   "metadata": {},
   "source": [
    "#### Total"
   ]
  },
  {
   "cell_type": "code",
   "execution_count": 16,
   "metadata": {},
   "outputs": [
    {
     "name": "stdout",
     "output_type": "stream",
     "text": [
      "Accuracy: 0.855593566342113\n",
      "Precision: 0.8096469257493738\n",
      "Recall: 0.9774678111587983\n",
      "F1-score: 0.8856776702461443\n"
     ]
    }
   ],
   "source": [
    "accuracy,precision,recall,f1 = print_metrics(df_veracity_total['clasificacion'], df_veracity_total['veracity_label'])"
   ]
  },
  {
   "cell_type": "markdown",
   "metadata": {},
   "source": [
    "### Set Thresholds"
   ]
  },
  {
   "cell_type": "code",
   "execution_count": 17,
   "metadata": {},
   "outputs": [],
   "source": [
    "def add_threshold_label(df,threshold,feature):\n",
    "    df[f'veracity_label_{threshold}'] =  (df[feature] >= threshold).astype(int)\n",
    "    return df"
   ]
  },
  {
   "cell_type": "code",
   "execution_count": 20,
   "metadata": {},
   "outputs": [],
   "source": [
    "def try_thresholds(df,rate,feature,target,threshold = 0.1):\n",
    "    max_accuracy = 0\n",
    "    max_accuracy_threshold = 0\n",
    "    max_f1 = 0\n",
    "    max_f1_threshold = 0\n",
    "    while threshold <= 0.9:\n",
    "        label_threshold = (df[feature] >= threshold).astype(int)\n",
    "        accuracy,precision,recall,f1 = calculate_metrics(df[target], label_threshold)\n",
    "        if accuracy > max_accuracy:\n",
    "            max_accuracy = accuracy\n",
    "            max_accuracy_threshold = threshold\n",
    "        if f1 > max_f1:\n",
    "            max_f1 = f1\n",
    "            max_f1_threshold = threshold\n",
    "        threshold += rate \n",
    "    \n",
    "    print(f\"Para el threshold {max_accuracy_threshold} se obtuvo el mejor acuraccy: {max_accuracy}\")\n",
    "    print(f\"Para el threshold {max_f1_threshold} se obtuvo el mejor f1: {max_f1}\")\n",
    "\n",
    "    return max_accuracy_threshold,max_f1_threshold\n",
    "\n"
   ]
  },
  {
   "cell_type": "code",
   "execution_count": 21,
   "metadata": {},
   "outputs": [
    {
     "name": "stdout",
     "output_type": "stream",
     "text": [
      "Para el threshold 0.5300000000000004 se obtuvo el mejor acuraccy: 0.8558886151049018\n",
      "Para el threshold 0.4600000000000003 se obtuvo el mejor f1: 0.8861786575562701\n"
     ]
    }
   ],
   "source": [
    "rate = 0.01\n",
    "accuracy_threshold,f1_threshold = try_thresholds(df_veracity_total,rate,'veracity_probabilities_true','clasificacion')\n"
   ]
  },
  {
   "cell_type": "code",
   "execution_count": 29,
   "metadata": {},
   "outputs": [],
   "source": [
    "threshold = 0.46\n",
    "df_veracity_total =  add_threshold_label(df_veracity_total,threshold,'veracity_probabilities_true')"
   ]
  },
  {
   "cell_type": "code",
   "execution_count": 30,
   "metadata": {},
   "outputs": [
    {
     "name": "stdout",
     "output_type": "stream",
     "text": [
      "Accuracy: 0.8554739519788203\n",
      "Precision: 0.8066264233776924\n",
      "Recall: 0.9831391784181484\n",
      "F1-score: 0.8861786575562701\n"
     ]
    }
   ],
   "source": [
    "accuracy,precision,recall,f1 = print_metrics(df_veracity_total['clasificacion'], df_veracity_total[f'veracity_label_{threshold}'])"
   ]
  },
  {
   "cell_type": "code",
   "execution_count": 31,
   "metadata": {},
   "outputs": [
    {
     "data": {
      "image/png": "[encoded data removed]",
      "text/plain": [
       "<Figure size 800x600 with 2 Axes>"
      ]
     },
     "metadata": {},
     "output_type": "display_data"
    }
   ],
   "source": [
    "plot_confusion_matrix(df_veracity_total['clasificacion'], df_veracity_total[f'veracity_label_{threshold}'],'Veracidad con threshold 0.55','Veracidad Predicha','Veracidad Real')"
   ]
  }
 ],
 "metadata": {
  "kernelspec": {
   "display_name": "Python 3",
   "language": "python",
   "name": "python3"
  },
  "language_info": {
   "codemirror_mode": {
    "name": "ipython",
    "version": 3
   },
   "file_extension": ".py",
   "mimetype": "text/x-python",
   "name": "python",
   "nbconvert_exporter": "python",
   "pygments_lexer": "ipython3",
   "version": "3.12.0"
  }
 },
 "nbformat": 4,
 "nbformat_minor": 2
}
