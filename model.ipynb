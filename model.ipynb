{
  "cells": [
    {
      "cell_type": "code",
      "execution_count": 1,
      "metadata": {
        "id": "RslvkuVqCXPq"
      },
      "outputs": [],
      "source": [
        "import pandas as pd\n",
        "import seaborn as sns\n",
        "import matplotlib.pyplot as plt\n",
        "from sklearn.metrics import confusion_matrix\n",
        "from ast import literal_eval"
      ]
    },
    {
      "cell_type": "code",
      "execution_count": 2,
      "metadata": {
        "id": "OxCWJW0ECylf"
      },
      "outputs": [],
      "source": [
        "df_arg = pd.read_csv(\"./veracity_arg_predicted.csv\")\n",
        "df = pd.read_csv(\"./veracity_predicted.csv\")"
      ]
    },
    {
      "cell_type": "code",
      "execution_count": 3,
      "metadata": {
        "id": "T8x-LezXqPc2"
      },
      "outputs": [],
      "source": [
        "def split_list(row):\n",
        "    return pd.Series(row)"
      ]
    },
    {
      "cell_type": "code",
      "execution_count": 4,
      "metadata": {
        "id": "_PBnZA1RqTRO"
      },
      "outputs": [],
      "source": [
        "def convert_list(df,feature):\n",
        "  df[feature] = df[feature].apply(literal_eval)\n",
        "  df[[f'{feature}_false', f'{feature}_true']] = df[feature].apply(split_list)\n",
        "  return df"
      ]
    },
    {
      "cell_type": "code",
      "execution_count": 5,
      "metadata": {
        "id": "XjbFx3Kspkqk"
      },
      "outputs": [],
      "source": [
        "def parse_df(df):\n",
        "  df = convert_list(df,'sentiment_probabilities')\n",
        "  df = convert_list(df,'veracity_probabilities')\n",
        "  return df\n"
      ]
    },
    {
      "cell_type": "code",
      "execution_count": 6,
      "metadata": {
        "id": "zHFpqFUUpWJs"
      },
      "outputs": [],
      "source": [
        "df_arg = parse_df(df_arg)\n",
        "df = parse_df(df)"
      ]
    },
    {
      "cell_type": "code",
      "execution_count": 8,
      "metadata": {
        "id": "g35h_ieeqMdx"
      },
      "outputs": [],
      "source": [
        "df_total = pd.concat([df,df_arg])"
      ]
    },
    {
      "cell_type": "markdown",
      "metadata": {
        "id": "WW8pvVLCO0S4"
      },
      "source": [
        "## Modelado"
      ]
    },
    {
      "cell_type": "code",
      "execution_count": 9,
      "metadata": {
        "id": "MPaa82ujO1uT"
      },
      "outputs": [],
      "source": [
        "import pandas as pd\n",
        "from sklearn.model_selection import train_test_split\n",
        "from sklearn.feature_extraction.text import TfidfVectorizer\n",
        "from tensorflow.keras.models import Sequential\n",
        "from tensorflow.keras.layers import Dense, Dropout\n",
        "from sklearn.metrics import accuracy_score, precision_score, recall_score, f1_score\n"
      ]
    },
    {
      "cell_type": "code",
      "execution_count": 10,
      "metadata": {
        "id": "xYO_i1ckhFJN"
      },
      "outputs": [],
      "source": [
        "def calculate_metrics(target,predicted):\n",
        "  accuracy = accuracy_score(target,predicted)\n",
        "  precision = precision_score(target,predicted)\n",
        "  recall = recall_score(target,predicted)\n",
        "  f1 = f1_score(target,predicted)\n",
        "\n",
        "  return accuracy,precision,recall,f1"
      ]
    },
    {
      "cell_type": "code",
      "execution_count": 11,
      "metadata": {
        "colab": {
          "base_uri": "https://localhost:8080/"
        },
        "id": "yJqGW2cnQyqA",
        "outputId": "7b2c0f8e-9f6b-4137-f9c2-9859bb44cb0b"
      },
      "outputs": [
        {
          "output_type": "stream",
          "name": "stdout",
          "text": [
            "clasificacion                      int64\n",
            "texto                             object\n",
            "sentiment_label                    int64\n",
            "sentiment_probabilities           object\n",
            "veracity_label                     int64\n",
            "veracity_probabilities            object\n",
            "sentiment_probabilities_false    float64\n",
            "sentiment_probabilities_true     float64\n",
            "veracity_probabilities_false     float64\n",
            "veracity_probabilities_true      float64\n",
            "dtype: object\n"
          ]
        }
      ],
      "source": [
        "print(df.dtypes)\n"
      ]
    },
    {
      "cell_type": "code",
      "execution_count": 12,
      "metadata": {
        "id": "HzHmAE0nPYPV"
      },
      "outputs": [],
      "source": [
        "def split_dataset(df):\n",
        "  X = df.drop(columns=['texto', 'clasificacion','sentiment_probabilities','veracity_probabilities'])\n",
        "  y = df['clasificacion']\n",
        "\n",
        "  X_train, X_test, y_train, y_test = train_test_split(X, y, test_size=0.2, random_state=42)\n",
        "  X_train, X_val, y_train, y_val = train_test_split(X_train, y_train, test_size=0.2, random_state=42)\n",
        "  return X_train,y_train,X_val,y_val,X_test,y_test\n"
      ]
    },
    {
      "cell_type": "code",
      "execution_count": 13,
      "metadata": {
        "id": "i0y3073pP88E"
      },
      "outputs": [],
      "source": [
        "def join_dataset(df1,df2):\n",
        "    return pd.concat([df1,df2])"
      ]
    },
    {
      "cell_type": "code",
      "execution_count": 14,
      "metadata": {
        "id": "kcn95engPQ1N"
      },
      "outputs": [],
      "source": [
        "X_train,y_train,X_val,y_val,X_test,y_test = split_dataset(df)\n",
        "X_train_arg,y_train_arg,X_val_arg,y_val_arg,X_test_arg,y_test_arg = split_dataset(df_arg)"
      ]
    },
    {
      "cell_type": "code",
      "execution_count": 16,
      "metadata": {
        "id": "jSAeQCGgP5a9"
      },
      "outputs": [],
      "source": [
        "X_train_total = join_dataset(X_train,X_train_arg)\n",
        "y_train_total = join_dataset(y_train,y_train_arg)\n",
        "\n",
        "X_val_total = join_dataset(X_val,X_val_arg)\n",
        "y_val_total = join_dataset(y_val,y_val_arg)\n",
        "\n",
        "X_test_total = join_dataset(X_test,X_test_arg)\n",
        "y_test_total = join_dataset(y_test,y_test_arg)"
      ]
    },
    {
      "cell_type": "code",
      "execution_count": 17,
      "metadata": {
        "colab": {
          "base_uri": "https://localhost:8080/",
          "height": 424
        },
        "id": "LsMfi_BKRR8q",
        "outputId": "7fb1e48c-298c-4c9d-ab11-058b952cffe8"
      },
      "outputs": [
        {
          "output_type": "execute_result",
          "data": {
            "text/plain": [
              "       sentiment_label  veracity_label  sentiment_probabilities_false  \\\n",
              "46350                0               1                       0.999944   \n",
              "37474                0               0                       0.999953   \n",
              "86551                0               1                       0.999901   \n",
              "76595                1               1                       0.003416   \n",
              "21035                0               0                       0.998761   \n",
              "...                ...             ...                            ...   \n",
              "264                  0               0                       0.999947   \n",
              "1739                 0               0                       0.999877   \n",
              "88                   0               0                       0.999362   \n",
              "484                  1               1                       0.012661   \n",
              "1249                 0               0                       0.994900   \n",
              "\n",
              "       sentiment_probabilities_true  veracity_probabilities_false  \\\n",
              "46350                      0.000056                      0.275400   \n",
              "37474                      0.000047                      0.998939   \n",
              "86551                      0.000099                      0.279638   \n",
              "76595                      0.996584                      0.003494   \n",
              "21035                      0.001239                      0.998995   \n",
              "...                             ...                           ...   \n",
              "264                        0.000053                      0.916958   \n",
              "1739                       0.000123                      0.842591   \n",
              "88                         0.000638                      0.688785   \n",
              "484                        0.987339                      0.474193   \n",
              "1249                       0.005100                      0.573981   \n",
              "\n",
              "       veracity_probabilities_true  \n",
              "46350                     0.724600  \n",
              "37474                     0.001061  \n",
              "86551                     0.720362  \n",
              "76595                     0.996506  \n",
              "21035                     0.001005  \n",
              "...                            ...  \n",
              "264                       0.083042  \n",
              "1739                      0.157409  \n",
              "88                        0.311215  \n",
              "484                       0.525807  \n",
              "1249                      0.426019  \n",
              "\n",
              "[80256 rows x 6 columns]"
            ],
            "text/html": [
              "\n",
              "  <div id=\"df-9eac7567-ddd4-4287-8e04-9e09f7a6f576\" class=\"colab-df-container\">\n",
              "    <div>\n",
              "<style scoped>\n",
              "    .dataframe tbody tr th:only-of-type {\n",
              "        vertical-align: middle;\n",
              "    }\n",
              "\n",
              "    .dataframe tbody tr th {\n",
              "        vertical-align: top;\n",
              "    }\n",
              "\n",
              "    .dataframe thead th {\n",
              "        text-align: right;\n",
              "    }\n",
              "</style>\n",
              "<table border=\"1\" class=\"dataframe\">\n",
              "  <thead>\n",
              "    <tr style=\"text-align: right;\">\n",
              "      <th></th>\n",
              "      <th>sentiment_label</th>\n",
              "      <th>veracity_label</th>\n",
              "      <th>sentiment_probabilities_false</th>\n",
              "      <th>sentiment_probabilities_true</th>\n",
              "      <th>veracity_probabilities_false</th>\n",
              "      <th>veracity_probabilities_true</th>\n",
              "    </tr>\n",
              "  </thead>\n",
              "  <tbody>\n",
              "    <tr>\n",
              "      <th>46350</th>\n",
              "      <td>0</td>\n",
              "      <td>1</td>\n",
              "      <td>0.999944</td>\n",
              "      <td>0.000056</td>\n",
              "      <td>0.275400</td>\n",
              "      <td>0.724600</td>\n",
              "    </tr>\n",
              "    <tr>\n",
              "      <th>37474</th>\n",
              "      <td>0</td>\n",
              "      <td>0</td>\n",
              "      <td>0.999953</td>\n",
              "      <td>0.000047</td>\n",
              "      <td>0.998939</td>\n",
              "      <td>0.001061</td>\n",
              "    </tr>\n",
              "    <tr>\n",
              "      <th>86551</th>\n",
              "      <td>0</td>\n",
              "      <td>1</td>\n",
              "      <td>0.999901</td>\n",
              "      <td>0.000099</td>\n",
              "      <td>0.279638</td>\n",
              "      <td>0.720362</td>\n",
              "    </tr>\n",
              "    <tr>\n",
              "      <th>76595</th>\n",
              "      <td>1</td>\n",
              "      <td>1</td>\n",
              "      <td>0.003416</td>\n",
              "      <td>0.996584</td>\n",
              "      <td>0.003494</td>\n",
              "      <td>0.996506</td>\n",
              "    </tr>\n",
              "    <tr>\n",
              "      <th>21035</th>\n",
              "      <td>0</td>\n",
              "      <td>0</td>\n",
              "      <td>0.998761</td>\n",
              "      <td>0.001239</td>\n",
              "      <td>0.998995</td>\n",
              "      <td>0.001005</td>\n",
              "    </tr>\n",
              "    <tr>\n",
              "      <th>...</th>\n",
              "      <td>...</td>\n",
              "      <td>...</td>\n",
              "      <td>...</td>\n",
              "      <td>...</td>\n",
              "      <td>...</td>\n",
              "      <td>...</td>\n",
              "    </tr>\n",
              "    <tr>\n",
              "      <th>264</th>\n",
              "      <td>0</td>\n",
              "      <td>0</td>\n",
              "      <td>0.999947</td>\n",
              "      <td>0.000053</td>\n",
              "      <td>0.916958</td>\n",
              "      <td>0.083042</td>\n",
              "    </tr>\n",
              "    <tr>\n",
              "      <th>1739</th>\n",
              "      <td>0</td>\n",
              "      <td>0</td>\n",
              "      <td>0.999877</td>\n",
              "      <td>0.000123</td>\n",
              "      <td>0.842591</td>\n",
              "      <td>0.157409</td>\n",
              "    </tr>\n",
              "    <tr>\n",
              "      <th>88</th>\n",
              "      <td>0</td>\n",
              "      <td>0</td>\n",
              "      <td>0.999362</td>\n",
              "      <td>0.000638</td>\n",
              "      <td>0.688785</td>\n",
              "      <td>0.311215</td>\n",
              "    </tr>\n",
              "    <tr>\n",
              "      <th>484</th>\n",
              "      <td>1</td>\n",
              "      <td>1</td>\n",
              "      <td>0.012661</td>\n",
              "      <td>0.987339</td>\n",
              "      <td>0.474193</td>\n",
              "      <td>0.525807</td>\n",
              "    </tr>\n",
              "    <tr>\n",
              "      <th>1249</th>\n",
              "      <td>0</td>\n",
              "      <td>0</td>\n",
              "      <td>0.994900</td>\n",
              "      <td>0.005100</td>\n",
              "      <td>0.573981</td>\n",
              "      <td>0.426019</td>\n",
              "    </tr>\n",
              "  </tbody>\n",
              "</table>\n",
              "<p>80256 rows × 6 columns</p>\n",
              "</div>\n",
              "    <div class=\"colab-df-buttons\">\n",
              "\n",
              "  <div class=\"colab-df-container\">\n",
              "    <button class=\"colab-df-convert\" onclick=\"convertToInteractive('df-9eac7567-ddd4-4287-8e04-9e09f7a6f576')\"\n",
              "            title=\"Convert this dataframe to an interactive table.\"\n",
              "            style=\"display:none;\">\n",
              "\n",
              "  <svg xmlns=\"http://www.w3.org/2000/svg\" height=\"24px\" viewBox=\"0 -960 960 960\">\n",
              "    <path d=\"M120-120v-720h720v720H120Zm60-500h600v-160H180v160Zm220 220h160v-160H400v160Zm0 220h160v-160H400v160ZM180-400h160v-160H180v160Zm440 0h160v-160H620v160ZM180-180h160v-160H180v160Zm440 0h160v-160H620v160Z\"/>\n",
              "  </svg>\n",
              "    </button>\n",
              "\n",
              "  <style>\n",
              "    .colab-df-container {\n",
              "      display:flex;\n",
              "      gap: 12px;\n",
              "    }\n",
              "\n",
              "    .colab-df-convert {\n",
              "      background-color: #E8F0FE;\n",
              "      border: none;\n",
              "      border-radius: 50%;\n",
              "      cursor: pointer;\n",
              "      display: none;\n",
              "      fill: #1967D2;\n",
              "      height: 32px;\n",
              "      padding: 0 0 0 0;\n",
              "      width: 32px;\n",
              "    }\n",
              "\n",
              "    .colab-df-convert:hover {\n",
              "      background-color: #E2EBFA;\n",
              "      box-shadow: 0px 1px 2px rgba(60, 64, 67, 0.3), 0px 1px 3px 1px rgba(60, 64, 67, 0.15);\n",
              "      fill: #174EA6;\n",
              "    }\n",
              "\n",
              "    .colab-df-buttons div {\n",
              "      margin-bottom: 4px;\n",
              "    }\n",
              "\n",
              "    [theme=dark] .colab-df-convert {\n",
              "      background-color: #3B4455;\n",
              "      fill: #D2E3FC;\n",
              "    }\n",
              "\n",
              "    [theme=dark] .colab-df-convert:hover {\n",
              "      background-color: #434B5C;\n",
              "      box-shadow: 0px 1px 3px 1px rgba(0, 0, 0, 0.15);\n",
              "      filter: drop-shadow(0px 1px 2px rgba(0, 0, 0, 0.3));\n",
              "      fill: #FFFFFF;\n",
              "    }\n",
              "  </style>\n",
              "\n",
              "    <script>\n",
              "      const buttonEl =\n",
              "        document.querySelector('#df-9eac7567-ddd4-4287-8e04-9e09f7a6f576 button.colab-df-convert');\n",
              "      buttonEl.style.display =\n",
              "        google.colab.kernel.accessAllowed ? 'block' : 'none';\n",
              "\n",
              "      async function convertToInteractive(key) {\n",
              "        const element = document.querySelector('#df-9eac7567-ddd4-4287-8e04-9e09f7a6f576');\n",
              "        const dataTable =\n",
              "          await google.colab.kernel.invokeFunction('convertToInteractive',\n",
              "                                                    [key], {});\n",
              "        if (!dataTable) return;\n",
              "\n",
              "        const docLinkHtml = 'Like what you see? Visit the ' +\n",
              "          '<a target=\"_blank\" href=https://colab.research.google.com/notebooks/data_table.ipynb>data table notebook</a>'\n",
              "          + ' to learn more about interactive tables.';\n",
              "        element.innerHTML = '';\n",
              "        dataTable['output_type'] = 'display_data';\n",
              "        await google.colab.output.renderOutput(dataTable, element);\n",
              "        const docLink = document.createElement('div');\n",
              "        docLink.innerHTML = docLinkHtml;\n",
              "        element.appendChild(docLink);\n",
              "      }\n",
              "    </script>\n",
              "  </div>\n",
              "\n",
              "\n",
              "<div id=\"df-58d27a0e-c35b-414c-ac9f-a4f86d2ca903\">\n",
              "  <button class=\"colab-df-quickchart\" onclick=\"quickchart('df-58d27a0e-c35b-414c-ac9f-a4f86d2ca903')\"\n",
              "            title=\"Suggest charts\"\n",
              "            style=\"display:none;\">\n",
              "\n",
              "<svg xmlns=\"http://www.w3.org/2000/svg\" height=\"24px\"viewBox=\"0 0 24 24\"\n",
              "     width=\"24px\">\n",
              "    <g>\n",
              "        <path d=\"M19 3H5c-1.1 0-2 .9-2 2v14c0 1.1.9 2 2 2h14c1.1 0 2-.9 2-2V5c0-1.1-.9-2-2-2zM9 17H7v-7h2v7zm4 0h-2V7h2v10zm4 0h-2v-4h2v4z\"/>\n",
              "    </g>\n",
              "</svg>\n",
              "  </button>\n",
              "\n",
              "<style>\n",
              "  .colab-df-quickchart {\n",
              "      --bg-color: #E8F0FE;\n",
              "      --fill-color: #1967D2;\n",
              "      --hover-bg-color: #E2EBFA;\n",
              "      --hover-fill-color: #174EA6;\n",
              "      --disabled-fill-color: #AAA;\n",
              "      --disabled-bg-color: #DDD;\n",
              "  }\n",
              "\n",
              "  [theme=dark] .colab-df-quickchart {\n",
              "      --bg-color: #3B4455;\n",
              "      --fill-color: #D2E3FC;\n",
              "      --hover-bg-color: #434B5C;\n",
              "      --hover-fill-color: #FFFFFF;\n",
              "      --disabled-bg-color: #3B4455;\n",
              "      --disabled-fill-color: #666;\n",
              "  }\n",
              "\n",
              "  .colab-df-quickchart {\n",
              "    background-color: var(--bg-color);\n",
              "    border: none;\n",
              "    border-radius: 50%;\n",
              "    cursor: pointer;\n",
              "    display: none;\n",
              "    fill: var(--fill-color);\n",
              "    height: 32px;\n",
              "    padding: 0;\n",
              "    width: 32px;\n",
              "  }\n",
              "\n",
              "  .colab-df-quickchart:hover {\n",
              "    background-color: var(--hover-bg-color);\n",
              "    box-shadow: 0 1px 2px rgba(60, 64, 67, 0.3), 0 1px 3px 1px rgba(60, 64, 67, 0.15);\n",
              "    fill: var(--button-hover-fill-color);\n",
              "  }\n",
              "\n",
              "  .colab-df-quickchart-complete:disabled,\n",
              "  .colab-df-quickchart-complete:disabled:hover {\n",
              "    background-color: var(--disabled-bg-color);\n",
              "    fill: var(--disabled-fill-color);\n",
              "    box-shadow: none;\n",
              "  }\n",
              "\n",
              "  .colab-df-spinner {\n",
              "    border: 2px solid var(--fill-color);\n",
              "    border-color: transparent;\n",
              "    border-bottom-color: var(--fill-color);\n",
              "    animation:\n",
              "      spin 1s steps(1) infinite;\n",
              "  }\n",
              "\n",
              "  @keyframes spin {\n",
              "    0% {\n",
              "      border-color: transparent;\n",
              "      border-bottom-color: var(--fill-color);\n",
              "      border-left-color: var(--fill-color);\n",
              "    }\n",
              "    20% {\n",
              "      border-color: transparent;\n",
              "      border-left-color: var(--fill-color);\n",
              "      border-top-color: var(--fill-color);\n",
              "    }\n",
              "    30% {\n",
              "      border-color: transparent;\n",
              "      border-left-color: var(--fill-color);\n",
              "      border-top-color: var(--fill-color);\n",
              "      border-right-color: var(--fill-color);\n",
              "    }\n",
              "    40% {\n",
              "      border-color: transparent;\n",
              "      border-right-color: var(--fill-color);\n",
              "      border-top-color: var(--fill-color);\n",
              "    }\n",
              "    60% {\n",
              "      border-color: transparent;\n",
              "      border-right-color: var(--fill-color);\n",
              "    }\n",
              "    80% {\n",
              "      border-color: transparent;\n",
              "      border-right-color: var(--fill-color);\n",
              "      border-bottom-color: var(--fill-color);\n",
              "    }\n",
              "    90% {\n",
              "      border-color: transparent;\n",
              "      border-bottom-color: var(--fill-color);\n",
              "    }\n",
              "  }\n",
              "</style>\n",
              "\n",
              "  <script>\n",
              "    async function quickchart(key) {\n",
              "      const quickchartButtonEl =\n",
              "        document.querySelector('#' + key + ' button');\n",
              "      quickchartButtonEl.disabled = true;  // To prevent multiple clicks.\n",
              "      quickchartButtonEl.classList.add('colab-df-spinner');\n",
              "      try {\n",
              "        const charts = await google.colab.kernel.invokeFunction(\n",
              "            'suggestCharts', [key], {});\n",
              "      } catch (error) {\n",
              "        console.error('Error during call to suggestCharts:', error);\n",
              "      }\n",
              "      quickchartButtonEl.classList.remove('colab-df-spinner');\n",
              "      quickchartButtonEl.classList.add('colab-df-quickchart-complete');\n",
              "    }\n",
              "    (() => {\n",
              "      let quickchartButtonEl =\n",
              "        document.querySelector('#df-58d27a0e-c35b-414c-ac9f-a4f86d2ca903 button');\n",
              "      quickchartButtonEl.style.display =\n",
              "        google.colab.kernel.accessAllowed ? 'block' : 'none';\n",
              "    })();\n",
              "  </script>\n",
              "</div>\n",
              "    </div>\n",
              "  </div>\n"
            ],
            "application/vnd.google.colaboratory.intrinsic+json": {
              "type": "dataframe",
              "variable_name": "X_train_total",
              "summary": "{\n  \"name\": \"X_train_total\",\n  \"rows\": 80256,\n  \"fields\": [\n    {\n      \"column\": \"sentiment_label\",\n      \"properties\": {\n        \"dtype\": \"number\",\n        \"std\": 0,\n        \"min\": 0,\n        \"max\": 1,\n        \"num_unique_values\": 2,\n        \"samples\": [\n          1,\n          0\n        ],\n        \"semantic_type\": \"\",\n        \"description\": \"\"\n      }\n    },\n    {\n      \"column\": \"veracity_label\",\n      \"properties\": {\n        \"dtype\": \"number\",\n        \"std\": 0,\n        \"min\": 0,\n        \"max\": 1,\n        \"num_unique_values\": 2,\n        \"samples\": [\n          0,\n          1\n        ],\n        \"semantic_type\": \"\",\n        \"description\": \"\"\n      }\n    },\n    {\n      \"column\": \"sentiment_probabilities_false\",\n      \"properties\": {\n        \"dtype\": \"number\",\n        \"std\": 0.45866162705818747,\n        \"min\": 3.7751618947368115e-05,\n        \"max\": 0.9999725818634033,\n        \"num_unique_values\": 40271,\n        \"samples\": [\n          0.9896432161331177,\n          0.9992927312850952\n        ],\n        \"semantic_type\": \"\",\n        \"description\": \"\"\n      }\n    },\n    {\n      \"column\": \"sentiment_probabilities_true\",\n      \"properties\": {\n        \"dtype\": \"number\",\n        \"std\": 0.45866162730041043,\n        \"min\": 2.736667920544278e-05,\n        \"max\": 0.9999622106552124,\n        \"num_unique_values\": 62231,\n        \"samples\": [\n          0.7835812568664551,\n          5.459818203235045e-05\n        ],\n        \"semantic_type\": \"\",\n        \"description\": \"\"\n      }\n    },\n    {\n      \"column\": \"veracity_probabilities_false\",\n      \"properties\": {\n        \"dtype\": \"number\",\n        \"std\": 0.3884793666549808,\n        \"min\": 0.0021979589946568012,\n        \"max\": 0.9990506768226624,\n        \"num_unique_values\": 61631,\n        \"samples\": [\n          0.1413971483707428,\n          0.9972853660583496\n        ],\n        \"semantic_type\": \"\",\n        \"description\": \"\"\n      }\n    },\n    {\n      \"column\": \"veracity_probabilities_true\",\n      \"properties\": {\n        \"dtype\": \"number\",\n        \"std\": 0.3884793669120842,\n        \"min\": 0.0009493047837167978,\n        \"max\": 0.9978020787239075,\n        \"num_unique_values\": 70198,\n        \"samples\": [\n          0.9971067309379578,\n          0.0017754448344931006\n        ],\n        \"semantic_type\": \"\",\n        \"description\": \"\"\n      }\n    }\n  ]\n}"
            }
          },
          "metadata": {},
          "execution_count": 17
        }
      ],
      "source": [
        "X_train_total"
      ]
    },
    {
      "cell_type": "code",
      "execution_count": 18,
      "metadata": {
        "id": "WBuXdem8Pz5B"
      },
      "outputs": [],
      "source": [
        "model = Sequential([\n",
        "    Dense(64, activation='relu', input_shape=(X_train.shape[1],)),\n",
        "    Dropout(0.5),\n",
        "    Dense(64, activation='relu'),\n",
        "    Dropout(0.5),\n",
        "    Dense(1, activation='sigmoid')\n",
        "])\n",
        "\n",
        "model.compile(optimizer='adam',\n",
        "              loss='binary_crossentropy',\n",
        "              metrics=['accuracy'])\n"
      ]
    },
    {
      "cell_type": "code",
      "execution_count": 19,
      "metadata": {
        "colab": {
          "base_uri": "https://localhost:8080/"
        },
        "id": "B6ywQpqdP3t9",
        "outputId": "99f02fb2-e447-4d2e-a256-fe4dfc5edb9d"
      },
      "outputs": [
        {
          "output_type": "stream",
          "name": "stdout",
          "text": [
            "Epoch 1/10\n",
            "2508/2508 [==============================] - 9s 3ms/step - loss: 0.3176 - accuracy: 0.8545 - val_loss: 0.2716 - val_accuracy: 0.8665\n",
            "Epoch 2/10\n",
            "2508/2508 [==============================] - 13s 5ms/step - loss: 0.2910 - accuracy: 0.8602 - val_loss: 0.2712 - val_accuracy: 0.8666\n",
            "Epoch 3/10\n",
            "2508/2508 [==============================] - 5s 2ms/step - loss: 0.2873 - accuracy: 0.8598 - val_loss: 0.2693 - val_accuracy: 0.8668\n",
            "Epoch 4/10\n",
            "2508/2508 [==============================] - 7s 3ms/step - loss: 0.2872 - accuracy: 0.8599 - val_loss: 0.2710 - val_accuracy: 0.8666\n",
            "Epoch 5/10\n",
            "2508/2508 [==============================] - 6s 2ms/step - loss: 0.2861 - accuracy: 0.8592 - val_loss: 0.2726 - val_accuracy: 0.8665\n",
            "Epoch 6/10\n",
            "2508/2508 [==============================] - 6s 2ms/step - loss: 0.2870 - accuracy: 0.8594 - val_loss: 0.2693 - val_accuracy: 0.8676\n",
            "Epoch 7/10\n",
            "2508/2508 [==============================] - 6s 3ms/step - loss: 0.2864 - accuracy: 0.8592 - val_loss: 0.2709 - val_accuracy: 0.8664\n",
            "Epoch 8/10\n",
            "2508/2508 [==============================] - 6s 2ms/step - loss: 0.2852 - accuracy: 0.8599 - val_loss: 0.2703 - val_accuracy: 0.8674\n",
            "Epoch 9/10\n",
            "2508/2508 [==============================] - 7s 3ms/step - loss: 0.2856 - accuracy: 0.8597 - val_loss: 0.2692 - val_accuracy: 0.8666\n",
            "Epoch 10/10\n",
            "2508/2508 [==============================] - 5s 2ms/step - loss: 0.2863 - accuracy: 0.8596 - val_loss: 0.2699 - val_accuracy: 0.8681\n"
          ]
        }
      ],
      "source": [
        "history = model.fit(X_train_total, y_train_total, epochs=10, batch_size=32, validation_data=(X_val, y_val))"
      ]
    },
    {
      "cell_type": "code",
      "execution_count": 20,
      "metadata": {
        "colab": {
          "base_uri": "https://localhost:8080/"
        },
        "id": "SxUtsY6AQeUP",
        "outputId": "64138cc3-4b10-4a93-e16b-9090d693b707"
      },
      "outputs": [
        {
          "output_type": "stream",
          "name": "stdout",
          "text": [
            "768/768 [==============================] - 3s 4ms/step\n"
          ]
        }
      ],
      "source": [
        "y_pred_prob = model.predict(X_test)\n",
        "y_pred = (y_pred_prob > 0.5).astype(int)"
      ]
    },
    {
      "cell_type": "code",
      "execution_count": 21,
      "metadata": {
        "colab": {
          "base_uri": "https://localhost:8080/"
        },
        "id": "erAUxC2pSqa8",
        "outputId": "8df09c09-bc2c-4cc7-d44d-00883a61bd03"
      },
      "outputs": [
        {
          "output_type": "stream",
          "name": "stdout",
          "text": [
            "Accuracy: 0.8343378400390943\n",
            "Precision: 0.8018460800767202\n",
            "Recall: 0.9461103253182461\n",
            "F1-score: 0.8680249156501427\n"
          ]
        }
      ],
      "source": [
        "accuracy,precision,recall,f1 = calculate_metrics(y_test, y_pred)\n",
        "\n",
        "print(\"Accuracy:\", accuracy)\n",
        "print(\"Precision:\", precision)\n",
        "print(\"Recall:\", recall)\n",
        "print(\"F1-score:\", f1)"
      ]
    },
    {
      "cell_type": "code",
      "execution_count": 22,
      "metadata": {
        "colab": {
          "base_uri": "https://localhost:8080/"
        },
        "id": "Xg9VxFbPUUg3",
        "outputId": "575a8349-4e02-413e-bae1-3f9ac366a6c6"
      },
      "outputs": [
        {
          "output_type": "stream",
          "name": "stdout",
          "text": [
            "Model - num layers: 1, num_neurons: 32\n",
            "Epoch 1/10\n",
            "2456/2456 [==============================] - 7s 3ms/step - loss: 0.3054 - accuracy: 0.8607 - val_loss: 0.2774 - val_accuracy: 0.8695\n",
            "Epoch 2/10\n",
            "2456/2456 [==============================] - 5s 2ms/step - loss: 0.2853 - accuracy: 0.8600 - val_loss: 0.2765 - val_accuracy: 0.8643\n",
            "Epoch 3/10\n",
            "2456/2456 [==============================] - 5s 2ms/step - loss: 0.2849 - accuracy: 0.8590 - val_loss: 0.2760 - val_accuracy: 0.8693\n",
            "Epoch 4/10\n",
            "2456/2456 [==============================] - 6s 3ms/step - loss: 0.2848 - accuracy: 0.8596 - val_loss: 0.2754 - val_accuracy: 0.8686\n",
            "Epoch 5/10\n",
            "2456/2456 [==============================] - 5s 2ms/step - loss: 0.2845 - accuracy: 0.8586 - val_loss: 0.2752 - val_accuracy: 0.8691\n",
            "Epoch 6/10\n",
            "2456/2456 [==============================] - 6s 2ms/step - loss: 0.2843 - accuracy: 0.8593 - val_loss: 0.2748 - val_accuracy: 0.8692\n",
            "Epoch 7/10\n",
            "2456/2456 [==============================] - 5s 2ms/step - loss: 0.2837 - accuracy: 0.8591 - val_loss: 0.2743 - val_accuracy: 0.8682\n",
            "Epoch 8/10\n",
            "2456/2456 [==============================] - 5s 2ms/step - loss: 0.2830 - accuracy: 0.8585 - val_loss: 0.2749 - val_accuracy: 0.8640\n",
            "Epoch 9/10\n",
            "2456/2456 [==============================] - 7s 3ms/step - loss: 0.2822 - accuracy: 0.8596 - val_loss: 0.2735 - val_accuracy: 0.8661\n",
            "Epoch 10/10\n",
            "2456/2456 [==============================] - 6s 2ms/step - loss: 0.2818 - accuracy: 0.8594 - val_loss: 0.2736 - val_accuracy: 0.8641\n",
            "768/768 [==============================] - 1s 1ms/step\n",
            "Accuracy: 0.822405929304447\n",
            "Precision: 0.824991691591891\n",
            "Recall: 0.8777934936350777\n",
            "F1-score: 0.8505739249614527\n",
            "----------------------------------\n",
            "Model - num layers: 1, num_neurons: 64\n",
            "Epoch 1/10\n",
            "2456/2456 [==============================] - 7s 3ms/step - loss: 0.3015 - accuracy: 0.8605 - val_loss: 0.2762 - val_accuracy: 0.8686\n",
            "Epoch 2/10\n",
            "2456/2456 [==============================] - 6s 2ms/step - loss: 0.2850 - accuracy: 0.8603 - val_loss: 0.2787 - val_accuracy: 0.8692\n",
            "Epoch 3/10\n",
            "2456/2456 [==============================] - 6s 2ms/step - loss: 0.2841 - accuracy: 0.8602 - val_loss: 0.2749 - val_accuracy: 0.8639\n",
            "Epoch 4/10\n",
            "2456/2456 [==============================] - 6s 2ms/step - loss: 0.2827 - accuracy: 0.8596 - val_loss: 0.2748 - val_accuracy: 0.8630\n",
            "Epoch 5/10\n",
            "2456/2456 [==============================] - 6s 2ms/step - loss: 0.2809 - accuracy: 0.8595 - val_loss: 0.2717 - val_accuracy: 0.8688\n",
            "Epoch 6/10\n",
            "2456/2456 [==============================] - 6s 3ms/step - loss: 0.2794 - accuracy: 0.8605 - val_loss: 0.2709 - val_accuracy: 0.8689\n",
            "Epoch 7/10\n",
            "2456/2456 [==============================] - 6s 2ms/step - loss: 0.2785 - accuracy: 0.8612 - val_loss: 0.2723 - val_accuracy: 0.8662\n",
            "Epoch 8/10\n",
            "2456/2456 [==============================] - 6s 3ms/step - loss: 0.2778 - accuracy: 0.8610 - val_loss: 0.2699 - val_accuracy: 0.8687\n",
            "Epoch 9/10\n",
            "2456/2456 [==============================] - 5s 2ms/step - loss: 0.2774 - accuracy: 0.8619 - val_loss: 0.2699 - val_accuracy: 0.8688\n",
            "Epoch 10/10\n",
            "2456/2456 [==============================] - 5s 2ms/step - loss: 0.2772 - accuracy: 0.8616 - val_loss: 0.2695 - val_accuracy: 0.8690\n",
            "768/768 [==============================] - 2s 2ms/step\n",
            "Accuracy: 0.828758755497638\n",
            "Precision: 0.8094822752476482\n",
            "Recall: 0.9188826025459689\n",
            "F1-score: 0.8607200821436853\n",
            "----------------------------------\n",
            "Model - num layers: 1, num_neurons: 128\n",
            "Epoch 1/10\n",
            "2456/2456 [==============================] - 6s 2ms/step - loss: 0.2975 - accuracy: 0.8600 - val_loss: 0.2787 - val_accuracy: 0.8627\n",
            "Epoch 2/10\n",
            "2456/2456 [==============================] - 6s 2ms/step - loss: 0.2837 - accuracy: 0.8596 - val_loss: 0.2753 - val_accuracy: 0.8642\n",
            "Epoch 3/10\n",
            "2456/2456 [==============================] - 6s 3ms/step - loss: 0.2819 - accuracy: 0.8589 - val_loss: 0.2732 - val_accuracy: 0.8688\n",
            "Epoch 4/10\n",
            "2456/2456 [==============================] - 5s 2ms/step - loss: 0.2805 - accuracy: 0.8609 - val_loss: 0.2721 - val_accuracy: 0.8665\n",
            "Epoch 5/10\n",
            "2456/2456 [==============================] - 7s 3ms/step - loss: 0.2798 - accuracy: 0.8600 - val_loss: 0.2710 - val_accuracy: 0.8684\n",
            "Epoch 6/10\n",
            "2456/2456 [==============================] - 5s 2ms/step - loss: 0.2793 - accuracy: 0.8609 - val_loss: 0.2718 - val_accuracy: 0.8681\n",
            "Epoch 7/10\n",
            "2456/2456 [==============================] - 8s 3ms/step - loss: 0.2789 - accuracy: 0.8601 - val_loss: 0.2712 - val_accuracy: 0.8677\n",
            "Epoch 8/10\n",
            "2456/2456 [==============================] - 5s 2ms/step - loss: 0.2786 - accuracy: 0.8604 - val_loss: 0.2717 - val_accuracy: 0.8667\n",
            "Epoch 9/10\n",
            "2456/2456 [==============================] - 5s 2ms/step - loss: 0.2783 - accuracy: 0.8608 - val_loss: 0.2712 - val_accuracy: 0.8675\n",
            "Epoch 10/10\n",
            "2456/2456 [==============================] - 7s 3ms/step - loss: 0.2782 - accuracy: 0.8611 - val_loss: 0.2698 - val_accuracy: 0.8686\n",
            "768/768 [==============================] - 1s 1ms/step\n",
            "Accuracy: 0.8323016777976869\n",
            "Precision: 0.8053625837903717\n",
            "Recall: 0.9346534653465347\n",
            "F1-score: 0.8652045826513912\n",
            "----------------------------------\n",
            "Model - num layers: 2, num_neurons: 32\n",
            "Epoch 1/10\n",
            "2456/2456 [==============================] - 7s 2ms/step - loss: 0.2939 - accuracy: 0.8608 - val_loss: 0.2751 - val_accuracy: 0.8629\n",
            "Epoch 2/10\n",
            "2456/2456 [==============================] - 7s 3ms/step - loss: 0.2801 - accuracy: 0.8603 - val_loss: 0.2703 - val_accuracy: 0.8683\n",
            "Epoch 3/10\n",
            "2456/2456 [==============================] - 5s 2ms/step - loss: 0.2783 - accuracy: 0.8612 - val_loss: 0.2699 - val_accuracy: 0.8686\n",
            "Epoch 4/10\n",
            "2456/2456 [==============================] - 7s 3ms/step - loss: 0.2777 - accuracy: 0.8616 - val_loss: 0.2694 - val_accuracy: 0.8685\n",
            "Epoch 5/10\n",
            "2456/2456 [==============================] - 5s 2ms/step - loss: 0.2773 - accuracy: 0.8619 - val_loss: 0.2727 - val_accuracy: 0.8669\n",
            "Epoch 6/10\n",
            "2456/2456 [==============================] - 6s 3ms/step - loss: 0.2770 - accuracy: 0.8620 - val_loss: 0.2700 - val_accuracy: 0.8686\n",
            "Epoch 7/10\n",
            "2456/2456 [==============================] - 6s 2ms/step - loss: 0.2769 - accuracy: 0.8616 - val_loss: 0.2691 - val_accuracy: 0.8674\n",
            "Epoch 8/10\n",
            "2456/2456 [==============================] - 6s 2ms/step - loss: 0.2769 - accuracy: 0.8614 - val_loss: 0.2692 - val_accuracy: 0.8696\n",
            "Epoch 9/10\n",
            "2456/2456 [==============================] - 7s 3ms/step - loss: 0.2768 - accuracy: 0.8618 - val_loss: 0.2690 - val_accuracy: 0.8687\n",
            "Epoch 10/10\n",
            "2456/2456 [==============================] - 6s 2ms/step - loss: 0.2767 - accuracy: 0.8619 - val_loss: 0.2722 - val_accuracy: 0.8637\n",
            "768/768 [==============================] - 1s 2ms/step\n",
            "Accuracy: 0.8184964978009448\n",
            "Precision: 0.8272389320716458\n",
            "Recall: 0.8655586987270155\n",
            "F1-score: 0.8459650941766026\n",
            "----------------------------------\n",
            "Model - num layers: 2, num_neurons: 64\n",
            "Epoch 1/10\n",
            "2456/2456 [==============================] - 7s 2ms/step - loss: 0.2902 - accuracy: 0.8595 - val_loss: 0.2732 - val_accuracy: 0.8656\n",
            "Epoch 2/10\n",
            "2456/2456 [==============================] - 6s 2ms/step - loss: 0.2795 - accuracy: 0.8600 - val_loss: 0.2700 - val_accuracy: 0.8685\n",
            "Epoch 3/10\n",
            "2456/2456 [==============================] - 6s 2ms/step - loss: 0.2782 - accuracy: 0.8606 - val_loss: 0.2726 - val_accuracy: 0.8672\n",
            "Epoch 4/10\n",
            "2456/2456 [==============================] - 6s 2ms/step - loss: 0.2781 - accuracy: 0.8608 - val_loss: 0.2691 - val_accuracy: 0.8676\n",
            "Epoch 5/10\n",
            "2456/2456 [==============================] - 7s 3ms/step - loss: 0.2774 - accuracy: 0.8616 - val_loss: 0.2701 - val_accuracy: 0.8688\n",
            "Epoch 6/10\n",
            "2456/2456 [==============================] - 6s 2ms/step - loss: 0.2774 - accuracy: 0.8614 - val_loss: 0.2699 - val_accuracy: 0.8686\n",
            "Epoch 7/10\n",
            "2456/2456 [==============================] - 7s 3ms/step - loss: 0.2769 - accuracy: 0.8616 - val_loss: 0.2695 - val_accuracy: 0.8681\n",
            "Epoch 8/10\n",
            "2456/2456 [==============================] - 5s 2ms/step - loss: 0.2768 - accuracy: 0.8613 - val_loss: 0.2689 - val_accuracy: 0.8666\n",
            "Epoch 9/10\n",
            "2456/2456 [==============================] - 6s 2ms/step - loss: 0.2766 - accuracy: 0.8620 - val_loss: 0.2688 - val_accuracy: 0.8685\n",
            "Epoch 10/10\n",
            "2456/2456 [==============================] - 6s 2ms/step - loss: 0.2765 - accuracy: 0.8620 - val_loss: 0.2705 - val_accuracy: 0.8688\n",
            "768/768 [==============================] - 1s 1ms/step\n",
            "Accuracy: 0.8337677146115002\n",
            "Precision: 0.8022235576923077\n",
            "Recall: 0.944059405940594\n",
            "F1-score: 0.8673814165042235\n",
            "----------------------------------\n",
            "Model - num layers: 2, num_neurons: 128\n",
            "Epoch 1/10\n",
            "2456/2456 [==============================] - 8s 3ms/step - loss: 0.2881 - accuracy: 0.8576 - val_loss: 0.2731 - val_accuracy: 0.8661\n",
            "Epoch 2/10\n",
            "2456/2456 [==============================] - 5s 2ms/step - loss: 0.2795 - accuracy: 0.8605 - val_loss: 0.2706 - val_accuracy: 0.8689\n",
            "Epoch 3/10\n",
            "2456/2456 [==============================] - 6s 2ms/step - loss: 0.2780 - accuracy: 0.8612 - val_loss: 0.2710 - val_accuracy: 0.8670\n",
            "Epoch 4/10\n",
            "2456/2456 [==============================] - 6s 3ms/step - loss: 0.2775 - accuracy: 0.8617 - val_loss: 0.2699 - val_accuracy: 0.8669\n",
            "Epoch 5/10\n",
            "2456/2456 [==============================] - 6s 2ms/step - loss: 0.2773 - accuracy: 0.8612 - val_loss: 0.2693 - val_accuracy: 0.8672\n",
            "Epoch 6/10\n",
            "2456/2456 [==============================] - 7s 3ms/step - loss: 0.2771 - accuracy: 0.8621 - val_loss: 0.2694 - val_accuracy: 0.8695\n",
            "Epoch 7/10\n",
            "2456/2456 [==============================] - 5s 2ms/step - loss: 0.2767 - accuracy: 0.8611 - val_loss: 0.2708 - val_accuracy: 0.8664\n",
            "Epoch 8/10\n",
            "2456/2456 [==============================] - 7s 3ms/step - loss: 0.2766 - accuracy: 0.8616 - val_loss: 0.2693 - val_accuracy: 0.8663\n",
            "Epoch 9/10\n",
            "2456/2456 [==============================] - 7s 3ms/step - loss: 0.2765 - accuracy: 0.8619 - val_loss: 0.2692 - val_accuracy: 0.8689\n",
            "Epoch 10/10\n",
            "2456/2456 [==============================] - 8s 3ms/step - loss: 0.2765 - accuracy: 0.8625 - val_loss: 0.2706 - val_accuracy: 0.8667\n",
            "768/768 [==============================] - 1s 1ms/step\n",
            "Accuracy: 0.8374328066460336\n",
            "Precision: 0.7981548948172523\n",
            "Recall: 0.9606082036775107\n",
            "F1-score: 0.8718788112202324\n",
            "----------------------------------\n",
            "Model - num layers: 3, num_neurons: 32\n",
            "Epoch 1/10\n",
            "2456/2456 [==============================] - 8s 3ms/step - loss: 0.2938 - accuracy: 0.8587 - val_loss: 0.2758 - val_accuracy: 0.8641\n",
            "Epoch 2/10\n",
            "2456/2456 [==============================] - 6s 2ms/step - loss: 0.2796 - accuracy: 0.8602 - val_loss: 0.2704 - val_accuracy: 0.8673\n",
            "Epoch 3/10\n",
            "2456/2456 [==============================] - 6s 2ms/step - loss: 0.2784 - accuracy: 0.8611 - val_loss: 0.2731 - val_accuracy: 0.8663\n",
            "Epoch 4/10\n",
            "2456/2456 [==============================] - 7s 3ms/step - loss: 0.2782 - accuracy: 0.8601 - val_loss: 0.2693 - val_accuracy: 0.8674\n",
            "Epoch 5/10\n",
            "2456/2456 [==============================] - 5s 2ms/step - loss: 0.2780 - accuracy: 0.8613 - val_loss: 0.2732 - val_accuracy: 0.8647\n",
            "Epoch 6/10\n",
            "2456/2456 [==============================] - 8s 3ms/step - loss: 0.2776 - accuracy: 0.8607 - val_loss: 0.2717 - val_accuracy: 0.8676\n",
            "Epoch 7/10\n",
            "2456/2456 [==============================] - 6s 2ms/step - loss: 0.2774 - accuracy: 0.8616 - val_loss: 0.2707 - val_accuracy: 0.8690\n",
            "Epoch 8/10\n",
            "2456/2456 [==============================] - 8s 3ms/step - loss: 0.2771 - accuracy: 0.8616 - val_loss: 0.2734 - val_accuracy: 0.8630\n",
            "Epoch 9/10\n",
            "2456/2456 [==============================] - 6s 2ms/step - loss: 0.2770 - accuracy: 0.8613 - val_loss: 0.2698 - val_accuracy: 0.8665\n",
            "Epoch 10/10\n",
            "2456/2456 [==============================] - 8s 3ms/step - loss: 0.2767 - accuracy: 0.8617 - val_loss: 0.2703 - val_accuracy: 0.8685\n",
            "768/768 [==============================] - 1s 1ms/step\n",
            "Accuracy: 0.8347857957322039\n",
            "Precision: 0.8007516554316053\n",
            "Recall: 0.9492927864214993\n",
            "F1-score: 0.8687182474193443\n",
            "----------------------------------\n",
            "Model - num layers: 3, num_neurons: 64\n",
            "Epoch 1/10\n",
            "2456/2456 [==============================] - 7s 3ms/step - loss: 0.2898 - accuracy: 0.8585 - val_loss: 0.2709 - val_accuracy: 0.8684\n",
            "Epoch 2/10\n",
            "2456/2456 [==============================] - 7s 3ms/step - loss: 0.2793 - accuracy: 0.8606 - val_loss: 0.2704 - val_accuracy: 0.8686\n",
            "Epoch 3/10\n",
            "2456/2456 [==============================] - 6s 2ms/step - loss: 0.2785 - accuracy: 0.8609 - val_loss: 0.2702 - val_accuracy: 0.8676\n",
            "Epoch 4/10\n",
            "2456/2456 [==============================] - 7s 3ms/step - loss: 0.2778 - accuracy: 0.8612 - val_loss: 0.2693 - val_accuracy: 0.8691\n",
            "Epoch 5/10\n",
            "2456/2456 [==============================] - 6s 2ms/step - loss: 0.2771 - accuracy: 0.8618 - val_loss: 0.2695 - val_accuracy: 0.8695\n",
            "Epoch 6/10\n",
            "2456/2456 [==============================] - 8s 3ms/step - loss: 0.2771 - accuracy: 0.8621 - val_loss: 0.2712 - val_accuracy: 0.8663\n",
            "Epoch 7/10\n",
            "2456/2456 [==============================] - 6s 2ms/step - loss: 0.2768 - accuracy: 0.8621 - val_loss: 0.2740 - val_accuracy: 0.8688\n",
            "Epoch 8/10\n",
            "2456/2456 [==============================] - 7s 3ms/step - loss: 0.2771 - accuracy: 0.8619 - val_loss: 0.2699 - val_accuracy: 0.8692\n",
            "Epoch 9/10\n",
            "2456/2456 [==============================] - 6s 2ms/step - loss: 0.2766 - accuracy: 0.8617 - val_loss: 0.2705 - val_accuracy: 0.8694\n",
            "Epoch 10/10\n",
            "2456/2456 [==============================] - 7s 3ms/step - loss: 0.2764 - accuracy: 0.8617 - val_loss: 0.2692 - val_accuracy: 0.8688\n",
            "768/768 [==============================] - 1s 1ms/step\n",
            "Accuracy: 0.8324645707769995\n",
            "Precision: 0.8038181818181818\n",
            "Recall: 0.937977369165488\n",
            "F1-score: 0.8657310704960836\n",
            "----------------------------------\n",
            "Model - num layers: 3, num_neurons: 128\n",
            "Epoch 1/10\n",
            "2456/2456 [==============================] - 8s 3ms/step - loss: 0.2874 - accuracy: 0.8579 - val_loss: 0.2738 - val_accuracy: 0.8690\n",
            "Epoch 2/10\n",
            "2456/2456 [==============================] - 8s 3ms/step - loss: 0.2793 - accuracy: 0.8605 - val_loss: 0.2718 - val_accuracy: 0.8687\n",
            "Epoch 3/10\n",
            "2456/2456 [==============================] - 6s 3ms/step - loss: 0.2782 - accuracy: 0.8616 - val_loss: 0.2739 - val_accuracy: 0.8671\n",
            "Epoch 4/10\n",
            "2456/2456 [==============================] - 8s 3ms/step - loss: 0.2780 - accuracy: 0.8612 - val_loss: 0.2714 - val_accuracy: 0.8686\n",
            "Epoch 5/10\n",
            "2456/2456 [==============================] - 6s 2ms/step - loss: 0.2777 - accuracy: 0.8617 - val_loss: 0.2690 - val_accuracy: 0.8666\n",
            "Epoch 6/10\n",
            "2456/2456 [==============================] - 15s 6ms/step - loss: 0.2773 - accuracy: 0.8616 - val_loss: 0.2695 - val_accuracy: 0.8668\n",
            "Epoch 7/10\n",
            "2456/2456 [==============================] - 9s 4ms/step - loss: 0.2770 - accuracy: 0.8616 - val_loss: 0.2701 - val_accuracy: 0.8663\n",
            "Epoch 8/10\n",
            "2456/2456 [==============================] - 6s 3ms/step - loss: 0.2771 - accuracy: 0.8619 - val_loss: 0.2697 - val_accuracy: 0.8691\n",
            "Epoch 9/10\n",
            "2456/2456 [==============================] - 8s 3ms/step - loss: 0.2768 - accuracy: 0.8619 - val_loss: 0.2688 - val_accuracy: 0.8682\n",
            "Epoch 10/10\n",
            "2456/2456 [==============================] - 7s 3ms/step - loss: 0.2765 - accuracy: 0.8620 - val_loss: 0.2697 - val_accuracy: 0.8688\n",
            "768/768 [==============================] - 1s 2ms/step\n",
            "Accuracy: 0.8327496334907966\n",
            "Precision: 0.8020714156680918\n",
            "Recall: 0.942008486562942\n",
            "F1-score: 0.8664259927797834\n",
            "----------------------------------\n"
          ]
        }
      ],
      "source": [
        "best_accuracy_model = None\n",
        "best_f1_model = None\n",
        "best_accuracy = 0\n",
        "best_f1= 0\n",
        "\n",
        "for num_layers in [1, 2, 3]:\n",
        "    for num_neurons in [32, 64, 128]:\n",
        "        print(f\"Model - num layers: {num_layers}, num_neurons: {num_neurons}\")\n",
        "        model = Sequential()\n",
        "        for _ in range(num_layers):\n",
        "            model.add(Dense(num_neurons, activation='relu'))\n",
        "        model.add(Dense(1, activation='sigmoid'))\n",
        "\n",
        "        model.compile(optimizer='adam',\n",
        "                      loss='binary_crossentropy',\n",
        "                      metrics=['accuracy'])\n",
        "\n",
        "        history = model.fit(X_train, y_train, epochs=10, batch_size=32, validation_data=(X_val, y_val))\n",
        "\n",
        "        y_pred_prob = model.predict(X_test)\n",
        "        y_pred = (y_pred_prob > 0.5).astype(int)\n",
        "\n",
        "        accuracy,precision,recall,f1 = calculate_metrics(y_test, y_pred)\n",
        "\n",
        "        print(\"Accuracy:\", accuracy)\n",
        "        print(\"Precision:\", precision)\n",
        "        print(\"Recall:\", recall)\n",
        "        print(\"F1-score:\", f1)\n",
        "\n",
        "        if accuracy > best_accuracy:\n",
        "          best_accuracy_model =f\"Model - num layers: {num_layers}, num_neurons: {num_neurons}\"\n",
        "          best_accuracy = accuracy\n",
        "\n",
        "        if f1 > best_f1:\n",
        "          best_f1_model = f\"Model - num layers: {num_layers}, num_neurons: {num_neurons}\"\n",
        "          best_f1 = f1\n",
        "        print(\"----------------------------------\")"
      ]
    },
    {
      "cell_type": "code",
      "execution_count": 23,
      "metadata": {
        "colab": {
          "base_uri": "https://localhost:8080/"
        },
        "id": "hrYUX1D7V4DA",
        "outputId": "c10f9bca-80b4-4013-e2a5-1203e0405f5e"
      },
      "outputs": [
        {
          "output_type": "stream",
          "name": "stdout",
          "text": [
            "Best Accuracy Model: Model - num layers: 2, num_neurons: 128 - Best accuracy: 0.8374328066460336\n",
            "Best F1 Model: Model - num layers: 2, num_neurons: 128 - Best F1-Score: 0.8718788112202324\n"
          ]
        }
      ],
      "source": [
        "print(f\"Best Accuracy Model: {best_accuracy_model} - Best accuracy: {best_accuracy}\")\n",
        "print(f\"Best F1 Model: {best_f1_model} - Best F1-Score: {best_f1}\")"
      ]
    },
    {
      "cell_type": "code",
      "source": [
        "num_neurons = 128\n",
        "num_layers= 2\n",
        "epochs = 10"
      ],
      "metadata": {
        "id": "ZUhrHHLEnATb"
      },
      "execution_count": 31,
      "outputs": []
    },
    {
      "cell_type": "code",
      "source": [
        "model = Sequential()\n",
        "for _ in range(num_layers):\n",
        "    model.add(Dense(num_neurons, activation='relu'))\n",
        "model.add(Dense(1, activation='sigmoid'))\n",
        "\n",
        "model.compile(optimizer='adam',\n",
        "              loss='binary_crossentropy',\n",
        "              metrics=['accuracy'])\n",
        "\n",
        "history = model.fit(X_train, y_train, epochs=epochs, batch_size=32, validation_data=(X_val, y_val))"
      ],
      "metadata": {
        "colab": {
          "base_uri": "https://localhost:8080/"
        },
        "id": "DDdWhE68nmBd",
        "outputId": "7761f886-fa7b-48dc-8ee0-15cd495c14d7"
      },
      "execution_count": 32,
      "outputs": [
        {
          "output_type": "stream",
          "name": "stdout",
          "text": [
            "Epoch 1/10\n",
            "2456/2456 [==============================] - 8s 3ms/step - loss: 0.2876 - accuracy: 0.8590 - val_loss: 0.2751 - val_accuracy: 0.8632\n",
            "Epoch 2/10\n",
            "2456/2456 [==============================] - 6s 2ms/step - loss: 0.2791 - accuracy: 0.8607 - val_loss: 0.2737 - val_accuracy: 0.8646\n",
            "Epoch 3/10\n",
            "2456/2456 [==============================] - 6s 3ms/step - loss: 0.2779 - accuracy: 0.8610 - val_loss: 0.2695 - val_accuracy: 0.8669\n",
            "Epoch 4/10\n",
            "2456/2456 [==============================] - 5s 2ms/step - loss: 0.2774 - accuracy: 0.8609 - val_loss: 0.2715 - val_accuracy: 0.8662\n",
            "Epoch 5/10\n",
            "2456/2456 [==============================] - 7s 3ms/step - loss: 0.2771 - accuracy: 0.8617 - val_loss: 0.2691 - val_accuracy: 0.8666\n",
            "Epoch 6/10\n",
            "2456/2456 [==============================] - 5s 2ms/step - loss: 0.2769 - accuracy: 0.8614 - val_loss: 0.2695 - val_accuracy: 0.8662\n",
            "Epoch 7/10\n",
            "2456/2456 [==============================] - 7s 3ms/step - loss: 0.2768 - accuracy: 0.8612 - val_loss: 0.2696 - val_accuracy: 0.8666\n",
            "Epoch 8/10\n",
            "2456/2456 [==============================] - 6s 2ms/step - loss: 0.2766 - accuracy: 0.8621 - val_loss: 0.2692 - val_accuracy: 0.8692\n",
            "Epoch 9/10\n",
            "2456/2456 [==============================] - 7s 3ms/step - loss: 0.2766 - accuracy: 0.8615 - val_loss: 0.2687 - val_accuracy: 0.8671\n",
            "Epoch 10/10\n",
            "2456/2456 [==============================] - 6s 3ms/step - loss: 0.2765 - accuracy: 0.8620 - val_loss: 0.2701 - val_accuracy: 0.8666\n"
          ]
        }
      ]
    },
    {
      "cell_type": "code",
      "source": [
        "y_pred_prob = model.predict(X_test)\n",
        "y_pred = (y_pred_prob > 0.5).astype(int)\n",
        "\n",
        "accuracy,precision,recall,f1 = calculate_metrics(y_test, y_pred)\n",
        "\n",
        "print(\"Accuracy:\", accuracy)\n",
        "print(\"Precision:\", precision)\n",
        "print(\"Recall:\", recall)\n",
        "print(\"F1-score:\", f1)"
      ],
      "metadata": {
        "colab": {
          "base_uri": "https://localhost:8080/"
        },
        "id": "AzaxF4ounmJZ",
        "outputId": "e60f0caf-d665-4577-e66a-89176e4c27d0"
      },
      "execution_count": 33,
      "outputs": [
        {
          "output_type": "stream",
          "name": "stdout",
          "text": [
            "768/768 [==============================] - 1s 1ms/step\n",
            "Accuracy: 0.8373513601563772\n",
            "Precision: 0.7980611045828437\n",
            "Recall: 0.9606082036775107\n",
            "F1-score: 0.8718228498074455\n"
          ]
        }
      ]
    }
  ],
  "metadata": {
    "colab": {
      "provenance": []
    },
    "kernelspec": {
      "display_name": "Python 3",
      "name": "python3"
    },
    "language_info": {
      "codemirror_mode": {
        "name": "ipython",
        "version": 3
      },
      "file_extension": ".py",
      "mimetype": "text/x-python",
      "name": "python",
      "nbconvert_exporter": "python",
      "pygments_lexer": "ipython3",
      "version": "3.12.0"
    }
  },
  "nbformat": 4,
  "nbformat_minor": 0
}